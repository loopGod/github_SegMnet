{
 "cells": [
  {
   "cell_type": "code",
   "execution_count": 11,
   "metadata": {},
   "outputs": [
    {
     "name": "stdout",
     "output_type": "stream",
     "text": [
      "Model Imported. Visualize by running: tensorboard --logdir=../model/\n",
      "model saved\n"
     ]
    }
   ],
   "source": [
    "# https://blog.csdn.net/u010159842/article/details/84481478\n",
    "\n",
    "from keras.models import load_model\n",
    "import tensorflow as tf\n",
    "import os \n",
    "import os.path as osp\n",
    "from keras import backend as K\n",
    "#路径参数\n",
    "# input_path = 'input path'\n",
    "weight_file = '../model/CNN_seg.h5'\n",
    "# weight_file_path = osp.join(input_path,weight_file)\n",
    "output_graph_name = weight_file[:-3] + '.pb'\n",
    "#转换函数\n",
    "def h5_to_pb(h5_model,output_dir,model_name,out_prefix = \"output_\",log_tensorboard = True):\n",
    "    if osp.exists(output_dir) == False:\n",
    "        os.mkdir(output_dir)\n",
    "    out_nodes = []\n",
    "    for i in range(len(h5_model.outputs)):\n",
    "        out_nodes.append(out_prefix + str(i + 1))\n",
    "        tf.identity(h5_model.output[i],out_prefix + str(i + 1))\n",
    "    sess = K.get_session()\n",
    "    from tensorflow.python.framework import graph_util,graph_io\n",
    "    init_graph = sess.graph.as_graph_def()\n",
    "    main_graph = graph_util.convert_variables_to_constants(sess,init_graph,out_nodes)\n",
    "    graph_io.write_graph(main_graph,output_dir,name = model_name,as_text = False)\n",
    "    if log_tensorboard:\n",
    "        from tensorflow.python.tools import import_pb_to_tensorboard\n",
    "        import_pb_to_tensorboard.import_to_tensorboard(osp.join(output_dir,model_name),output_dir)\n",
    "#输出路径\n",
    "output_dir = \"../model/\"#osp.join(os.getcwd(),\"trans_model\")\n",
    "#加载模型\n",
    "h5_model = load_model(weight_file)\n",
    "h5_to_pb(h5_model,output_dir = output_dir,model_name = output_graph_name)\n",
    "print('model saved')"
   ]
  },
  {
   "cell_type": "code",
   "execution_count": null,
   "metadata": {},
   "outputs": [],
   "source": []
  },
  {
   "cell_type": "code",
   "execution_count": null,
   "metadata": {},
   "outputs": [],
   "source": []
  },
  {
   "cell_type": "code",
   "execution_count": null,
   "metadata": {},
   "outputs": [],
   "source": []
  },
  {
   "cell_type": "code",
   "execution_count": null,
   "metadata": {},
   "outputs": [],
   "source": [
    "import tensorflow as tf\n",
    "from tensorflow.python.platform import gfile\n",
    " \n",
    "def load_pb(pb_file_path):\n",
    "    sess = tf.Session()\n",
    "    with gfile.FastGFile(pb_file_path, 'rb') as f:\n",
    "        graph_def = tf.GraphDef()\n",
    "        graph_def.ParseFromString(f.read())\n",
    "        sess.graph.as_default()\n",
    "        tf.import_graph_def(graph_def, name='')\n",
    " \n",
    "    print(sess.run('b:0'))\n",
    "    #输入\n",
    "    input_x = sess.graph.get_tensor_by_name('x:0')\n",
    "    input_y = sess.graph.get_tensor_by_name('y:0')\n",
    "    #输出\n",
    "    op = sess.graph.get_tensor_by_name('op_to_store:0')\n",
    "    #预测结果\n",
    "    ret = sess.run(op, {input_x: 3, input_y: 4})\n",
    "    print(ret)"
   ]
  },
  {
   "cell_type": "code",
   "execution_count": null,
   "metadata": {},
   "outputs": [],
   "source": []
  }
 ],
 "metadata": {
  "kernelspec": {
   "display_name": "Python 3",
   "language": "python",
   "name": "python3"
  },
  "language_info": {
   "codemirror_mode": {
    "name": "ipython",
    "version": 3
   },
   "file_extension": ".py",
   "mimetype": "text/x-python",
   "name": "python",
   "nbconvert_exporter": "python",
   "pygments_lexer": "ipython3",
   "version": "3.6.7"
  }
 },
 "nbformat": 4,
 "nbformat_minor": 2
}
